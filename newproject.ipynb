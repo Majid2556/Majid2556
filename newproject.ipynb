{
 "cells": [
  {
   "cell_type": "code",
   "execution_count": 1,
   "id": "f7d76e4f",
   "metadata": {},
   "outputs": [],
   "source": [
    "import requests\n",
    "import json"
   ]
  },
  {
   "cell_type": "code",
   "execution_count": null,
   "id": "4e261966",
   "metadata": {},
   "outputs": [
    {
     "name": "stdout",
     "output_type": "stream",
     "text": [
      "Enter your city : Amol\n",
      "Weather : scattered clouds\n",
      "Temprature : 27.4\n",
      "Humidity : 51\n",
      "Wind_speed : 5.46\n"
     ]
    }
   ],
   "source": [
    "while True:\n",
    "    \n",
    "\n",
    "    API_key ='ee9d5422d4b92632d17d5766be554e00'\n",
    "\n",
    "    city_name = input('Enter your city : ')\n",
    "    URL = f'http://api.openweathermap.org/data/2.5/weather?q={city_name}&appid={API_key}&units=metric'\n",
    "\n",
    "\n",
    "    res = requests.get(URL)\n",
    "    json_data = json.loads(res.text)\n",
    "    weather = json_data['weather'][0]['description']\n",
    "    temprature = json_data['main']['temp']\n",
    "    humidity = json_data['main']['humidity']\n",
    "    wind_speed = json_data['wind']['speed']\n",
    "\n",
    "    print(f'Weather : {weather}')\n",
    "    print(f'Temprature : {temprature}')\n",
    "    print(f'Humidity : {humidity}')\n",
    "    print(f'Wind_speed : {wind_speed}')\n"
   ]
  },
  {
   "cell_type": "code",
   "execution_count": null,
   "id": "1324a538",
   "metadata": {},
   "outputs": [],
   "source": []
  }
 ],
 "metadata": {
  "kernelspec": {
   "display_name": "Python 3 (ipykernel)",
   "language": "python",
   "name": "python3"
  },
  "language_info": {
   "codemirror_mode": {
    "name": "ipython",
    "version": 3
   },
   "file_extension": ".py",
   "mimetype": "text/x-python",
   "name": "python",
   "nbconvert_exporter": "python",
   "pygments_lexer": "ipython3",
   "version": "3.9.12"
  }
 },
 "nbformat": 4,
 "nbformat_minor": 5
}
